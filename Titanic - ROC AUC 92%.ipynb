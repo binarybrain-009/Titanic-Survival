{
 "cells": [
  {
   "cell_type": "markdown",
   "metadata": {
    "_uuid": "f730d1beefb52b72591f94b9111756c2a3a83ad8"
   },
   "source": [
    "#                                                                            TITANIC: Machine Learning from Disaster"
   ]
  },
  {
   "cell_type": "markdown",
   "metadata": {
    "_uuid": "1dc33b569514968548a8052ead3ee38519a3f718"
   },
   "source": [
    " videos to understand the background\n",
    "Sinking of the Titanic: https://youtu.be/b0L_2jKEbA4\n",
    "50 Insane Facts: https: https://youtu.be/Rqbsrj6-FgM"
   ]
  },
  {
   "cell_type": "markdown",
   "metadata": {
    "_uuid": "50d2cae498f6839a653956ff90b92ef523bde02a"
   },
   "source": [
    "## LOAD LIBRARIES"
   ]
  },
  {
   "cell_type": "code",
   "execution_count": 3,
   "metadata": {
    "_uuid": "8951800c972ce3928a0c2a9e3d0295054955382f"
   },
   "outputs": [
    {
     "ename": "ModuleNotFoundError",
     "evalue": "No module named 'xgboost'",
     "output_type": "error",
     "traceback": [
      "\u001b[1;31m---------------------------------------------------------------------------\u001b[0m",
      "\u001b[1;31mModuleNotFoundError\u001b[0m                       Traceback (most recent call last)",
      "\u001b[1;32m<ipython-input-3-936ee240a8b5>\u001b[0m in \u001b[0;36m<module>\u001b[1;34m\u001b[0m\n\u001b[0;32m     11\u001b[0m \u001b[1;31m#Algorithms\u001b[0m\u001b[1;33m\u001b[0m\u001b[1;33m\u001b[0m\u001b[1;33m\u001b[0m\u001b[0m\n\u001b[0;32m     12\u001b[0m \u001b[1;32mfrom\u001b[0m \u001b[0msklearn\u001b[0m \u001b[1;32mimport\u001b[0m \u001b[0mensemble\u001b[0m\u001b[1;33m,\u001b[0m \u001b[0mtree\u001b[0m\u001b[1;33m,\u001b[0m \u001b[0msvm\u001b[0m\u001b[1;33m,\u001b[0m \u001b[0mnaive_bayes\u001b[0m\u001b[1;33m,\u001b[0m \u001b[0mneighbors\u001b[0m\u001b[1;33m,\u001b[0m \u001b[0mlinear_model\u001b[0m\u001b[1;33m,\u001b[0m \u001b[0mgaussian_process\u001b[0m\u001b[1;33m,\u001b[0m \u001b[0mneural_network\u001b[0m\u001b[1;33m\u001b[0m\u001b[1;33m\u001b[0m\u001b[0m\n\u001b[1;32m---> 13\u001b[1;33m \u001b[1;32mimport\u001b[0m \u001b[0mxgboost\u001b[0m \u001b[1;32mas\u001b[0m \u001b[0mxgb\u001b[0m\u001b[1;33m\u001b[0m\u001b[1;33m\u001b[0m\u001b[0m\n\u001b[0m\u001b[0;32m     14\u001b[0m \u001b[1;32mfrom\u001b[0m \u001b[0mxgboost\u001b[0m\u001b[1;33m.\u001b[0m\u001b[0msklearn\u001b[0m \u001b[1;32mimport\u001b[0m \u001b[0mXGBClassifier\u001b[0m\u001b[1;33m\u001b[0m\u001b[1;33m\u001b[0m\u001b[0m\n\u001b[0;32m     15\u001b[0m \u001b[1;33m\u001b[0m\u001b[0m\n",
      "\u001b[1;31mModuleNotFoundError\u001b[0m: No module named 'xgboost'"
     ]
    }
   ],
   "source": [
    "# Basic\n",
    "import numpy as np\n",
    "import pandas as pd\n",
    "import matplotlib.pyplot as plt\n",
    "import seaborn as sns\n",
    "\n",
    "# Common Tools\n",
    "from sklearn.preprocessing import LabelEncoder\n",
    "from collections import Counter\n",
    "\n",
    "#Algorithms\n",
    "from sklearn import ensemble, tree, svm, naive_bayes, neighbors, linear_model, gaussian_process, neural_network\n",
    "import xgboost as xgb\n",
    "from xgboost.sklearn import XGBClassifier\n",
    "\n",
    "# Model\n",
    "from sklearn.metrics import accuracy_score, f1_score, auc, roc_curve, roc_auc_score\n",
    "from sklearn.model_selection import train_test_split, StratifiedKFold, GridSearchCV, cross_val_score\n",
    "#from sklearn.ensemble import VotingClassifier\n",
    "\n",
    "#Configure Defaults\n",
    "import warnings\n",
    "warnings.filterwarnings('ignore')\n",
    "%matplotlib inline"
   ]
  },
  {
   "cell_type": "markdown",
   "metadata": {
    "_uuid": "226068c2e9875c062d0fa8667a6ba5c9f14b327c"
   },
   "source": [
    "### Check versions"
   ]
  },
  {
   "cell_type": "code",
   "execution_count": 4,
   "metadata": {
    "_uuid": "8b36b957be0314380d6642515c791b8eba68504c"
   },
   "outputs": [
    {
     "data": {
      "text/plain": [
       "'0.24.2'"
      ]
     },
     "execution_count": 4,
     "metadata": {},
     "output_type": "execute_result"
    }
   ],
   "source": [
    "pd.__version__"
   ]
  },
  {
   "cell_type": "code",
   "execution_count": 5,
   "metadata": {
    "_uuid": "9650eb84a9e6331d0e408e86d56a28d34a35ddbc"
   },
   "outputs": [
    {
     "data": {
      "text/plain": [
       "'1.16.2'"
      ]
     },
     "execution_count": 5,
     "metadata": {},
     "output_type": "execute_result"
    }
   ],
   "source": [
    "np.__version__"
   ]
  },
  {
   "cell_type": "code",
   "execution_count": 6,
   "metadata": {
    "_uuid": "789a96ce370ae049bd51755b9dfecebf207f3766"
   },
   "outputs": [
    {
     "data": {
      "text/plain": [
       "'0.9.0'"
      ]
     },
     "execution_count": 6,
     "metadata": {},
     "output_type": "execute_result"
    }
   ],
   "source": [
    "sns.__version__"
   ]
  },
  {
   "cell_type": "markdown",
   "metadata": {
    "_uuid": "e8940093c0e8dec27473c8fd2de5d804f9854803"
   },
   "source": [
    "## LOAD DATA"
   ]
  },
  {
   "cell_type": "code",
   "execution_count": null,
   "metadata": {
    "_uuid": "0b73ea418bf9e7deecd67c74eed235687364e397"
   },
   "outputs": [],
   "source": [
    "train = pd.read_csv('../input/train.csv')"
   ]
  },
  {
   "cell_type": "code",
   "execution_count": null,
   "metadata": {
    "_uuid": "9af35b70e5565ae513e7813f34a5b88faa647781"
   },
   "outputs": [],
   "source": [
    "train.shape"
   ]
  },
  {
   "cell_type": "code",
   "execution_count": null,
   "metadata": {
    "_uuid": "46eac5a863341e228b445ae03ee7e43d1d7f230b"
   },
   "outputs": [],
   "source": [
    "test = pd.read_csv('../input/test.csv')"
   ]
  },
  {
   "cell_type": "code",
   "execution_count": null,
   "metadata": {
    "_uuid": "a1df35f0e14b6dee6a2e799263028cd8e6975d12"
   },
   "outputs": [],
   "source": [
    "test.shape"
   ]
  },
  {
   "cell_type": "markdown",
   "metadata": {
    "_uuid": "156338acb9d55c4cb24e4e250b4a3e942c079659"
   },
   "source": [
    "### Check for imbalance class problem"
   ]
  },
  {
   "cell_type": "code",
   "execution_count": null,
   "metadata": {
    "_uuid": "237565d1ff14cd9b0a242436eda77d57eb1f083e"
   },
   "outputs": [],
   "source": [
    "sns.countplot(x='Survived', data=train)\n",
    "print(\"Survival rate: \", train.Survived.sum()/train.Survived.count())"
   ]
  },
  {
   "cell_type": "markdown",
   "metadata": {
    "_uuid": "90316f4bed60419584207180d998934abd80e273"
   },
   "source": [
    "## EDA"
   ]
  },
  {
   "cell_type": "code",
   "execution_count": null,
   "metadata": {
    "_uuid": "424bf3f594f23bc5f1cf12e593ce123b203e4c40"
   },
   "outputs": [],
   "source": [
    "train.columns"
   ]
  },
  {
   "cell_type": "code",
   "execution_count": null,
   "metadata": {
    "_uuid": "0d3970bfc4f9531b4b84b5abcdd20ff5f8e35608"
   },
   "outputs": [],
   "source": [
    "train.info()"
   ]
  },
  {
   "cell_type": "code",
   "execution_count": null,
   "metadata": {
    "_uuid": "16bfdec919b890e087c85f3852145a09518d7c80"
   },
   "outputs": [],
   "source": [
    "train.head()"
   ]
  },
  {
   "cell_type": "code",
   "execution_count": null,
   "metadata": {
    "_uuid": "7fee6a7340d9cbe59d9edba8c11d603f2ff4a18f"
   },
   "outputs": [],
   "source": [
    "train.describe()"
   ]
  },
  {
   "cell_type": "code",
   "execution_count": null,
   "metadata": {},
   "outputs": [],
   "source": [
    "# Describe categorical features\n",
    "train.describe(include=['O'])"
   ]
  },
  {
   "cell_type": "code",
   "execution_count": null,
   "metadata": {
    "_uuid": "663875edaf7d54729b905ae167464091b136dfa9"
   },
   "outputs": [],
   "source": [
    "sns.heatmap(train.isnull())"
   ]
  },
  {
   "cell_type": "code",
   "execution_count": null,
   "metadata": {
    "_uuid": "0fbbcb7da0cd69622e054045a6398500d02c93a2"
   },
   "outputs": [],
   "source": [
    "sns.pairplot(train, hue=\"Survived\")"
   ]
  },
  {
   "cell_type": "code",
   "execution_count": null,
   "metadata": {
    "_uuid": "cf79207f0cdfe174c206dfdd783c0eea177ebaf3"
   },
   "outputs": [],
   "source": [
    "a = sns.FacetGrid(train, hue = 'Survived', aspect=4 )\n",
    "a.map(sns.kdeplot, 'Age', shade= True )\n",
    "a.set(xlim=(0, train['Age'].max()))\n",
    "a.add_legend()"
   ]
  },
  {
   "cell_type": "code",
   "execution_count": null,
   "metadata": {
    "_uuid": "6e6971665bcc25d857203468d3cbf5162a6080a9"
   },
   "outputs": [],
   "source": [
    "sns.boxplot(x=\"Pclass\", y=\"Fare\",data=train)"
   ]
  },
  {
   "cell_type": "code",
   "execution_count": null,
   "metadata": {},
   "outputs": [],
   "source": [
    "train[['Pclass', 'Survived']].groupby(['Pclass'], as_index=False).mean().sort_values(by='Survived', ascending=False)"
   ]
  },
  {
   "cell_type": "code",
   "execution_count": null,
   "metadata": {
    "_uuid": "9e30851aafa73348e3a05172ea1e8e2178cb0c59"
   },
   "outputs": [],
   "source": [
    "train[[\"Sex\", \"Survived\"]].groupby(['Sex'], as_index=False).mean().sort_values(by='Survived', ascending=False)"
   ]
  },
  {
   "cell_type": "code",
   "execution_count": null,
   "metadata": {
    "_uuid": "029b5d835c70e5b49eb3754f743bd5630afe8d5a"
   },
   "outputs": [],
   "source": [
    "train[[\"SibSp\", \"Survived\"]].groupby(['SibSp'], as_index=False).mean().sort_values(by='Survived', ascending=False)"
   ]
  },
  {
   "cell_type": "code",
   "execution_count": null,
   "metadata": {},
   "outputs": [],
   "source": [
    "train[[\"Parch\", \"Survived\"]].groupby(['Parch'], as_index=False).mean().sort_values(by='Survived', ascending=False)"
   ]
  },
  {
   "cell_type": "markdown",
   "metadata": {
    "_uuid": "b6b18241d99d4c8c2e8c488c5490868fb0bc32e6"
   },
   "source": [
    "## DATA WRANGLING"
   ]
  },
  {
   "cell_type": "markdown",
   "metadata": {
    "_uuid": "80d6153cbed579ce8b14354f1560e1d5a045e8ee"
   },
   "source": [
    "### Outlier removal"
   ]
  },
  {
   "cell_type": "code",
   "execution_count": null,
   "metadata": {
    "_uuid": "672a20a6feef9bc531dedb05dfb0f6aa2a4e7223"
   },
   "outputs": [],
   "source": [
    "q = train.Fare.quantile(0.99)\n",
    "q"
   ]
  },
  {
   "cell_type": "code",
   "execution_count": null,
   "metadata": {
    "_uuid": "2f3c16df3efcca16dd2b827ed6a3d0018eb251b9"
   },
   "outputs": [],
   "source": [
    "train = train[train['Fare'] < q]"
   ]
  },
  {
   "cell_type": "markdown",
   "metadata": {
    "_uuid": "dd4ababc4c74a794c0d862fa9df6f8635a63e39f"
   },
   "source": [
    "### Concat data "
   ]
  },
  {
   "cell_type": "code",
   "execution_count": null,
   "metadata": {
    "_uuid": "83aba8f81dd2717a7c6e7f80bc064451038e2069"
   },
   "outputs": [],
   "source": [
    "#Save Id for the submission at the very end.\n",
    "Id = test['PassengerId']"
   ]
  },
  {
   "cell_type": "code",
   "execution_count": null,
   "metadata": {
    "_uuid": "1fac66426652b8344ee51a68acb4988475985f60"
   },
   "outputs": [],
   "source": [
    "#Get split marker\n",
    "split = len(train)"
   ]
  },
  {
   "cell_type": "code",
   "execution_count": null,
   "metadata": {
    "_uuid": "f6d178f5cc18496a211b82d965155ba9f1036cf3"
   },
   "outputs": [],
   "source": [
    "#Merge into one dataset\n",
    "data =  pd.concat(objs=[train, test], axis=0).reset_index(drop=True)"
   ]
  },
  {
   "cell_type": "code",
   "execution_count": null,
   "metadata": {
    "_uuid": "559e3f608efcd3a355b6d0dfd34464157aea99b0"
   },
   "outputs": [],
   "source": [
    "#We don't need the Id anymore now.\n",
    "data.drop('PassengerId', axis=1, inplace=True)"
   ]
  },
  {
   "cell_type": "code",
   "execution_count": null,
   "metadata": {
    "_uuid": "63a173577f6782f3a3377c3cca5dc05fc19681ea"
   },
   "outputs": [],
   "source": [
    "data.shape"
   ]
  },
  {
   "cell_type": "markdown",
   "metadata": {
    "_uuid": "d6f791f2cc0310c515f1d7ff4855fb744cc73d76"
   },
   "source": [
    "### Handle Nulls "
   ]
  },
  {
   "cell_type": "markdown",
   "metadata": {
    "_uuid": "fc7bbf4ccdb9e338b5c171762484a0eddb536985"
   },
   "source": [
    "#### Age "
   ]
  },
  {
   "cell_type": "code",
   "execution_count": null,
   "metadata": {
    "_uuid": "179f7ce804a504400451e76826d2c2cde54053df"
   },
   "outputs": [],
   "source": [
    "sns.distplot(data['Age'].dropna())"
   ]
  },
  {
   "cell_type": "code",
   "execution_count": null,
   "metadata": {
    "_uuid": "291468b6da8511dc5749b6f2271dac6535faf2be"
   },
   "outputs": [],
   "source": [
    "median = data[\"Age\"].median()\n",
    "std = data[\"Age\"].std()\n",
    "is_null = data[\"Age\"].isnull().sum()\n",
    "rand_age = np.random.randint(median - std, median + std, size = is_null)\n",
    "age_slice = data[\"Age\"].copy()\n",
    "age_slice[np.isnan(age_slice)] = rand_age\n",
    "data[\"Age\"] = age_slice\n",
    "data[\"Age\"] = data[\"Age\"].astype(int)"
   ]
  },
  {
   "cell_type": "code",
   "execution_count": null,
   "metadata": {
    "_uuid": "73429b1e1d0140504685aeaeb7b47f305b15f2e1"
   },
   "outputs": [],
   "source": [
    "#Check\n",
    "sns.distplot(data['Age'])"
   ]
  },
  {
   "cell_type": "markdown",
   "metadata": {
    "_uuid": "07284d81b7415c7771bc8804b787dfeab14292cf"
   },
   "source": [
    "#### Others"
   ]
  },
  {
   "cell_type": "code",
   "execution_count": null,
   "metadata": {
    "_uuid": "cda7b17da30c797c6f0529370e252a5e327c56ee"
   },
   "outputs": [],
   "source": [
    "data['Embarked'].fillna(data['Embarked'].mode()[0], inplace = True)"
   ]
  },
  {
   "cell_type": "code",
   "execution_count": null,
   "metadata": {
    "_uuid": "84f026c31a144320fd20b5f46c5c4098e71721e0"
   },
   "outputs": [],
   "source": [
    "data[\"Embarked\"].isnull().sum()"
   ]
  },
  {
   "cell_type": "code",
   "execution_count": null,
   "metadata": {
    "_uuid": "0bef96316380b0aad641038e0f2b7326ad1c944e"
   },
   "outputs": [],
   "source": [
    "data['Fare'].fillna(data['Fare'].mean(), inplace = True)"
   ]
  },
  {
   "cell_type": "markdown",
   "metadata": {
    "_uuid": "796eaf241d9ec32c9165b5b2cd8f3fd64bbf012e"
   },
   "source": [
    "#### Cabin"
   ]
  },
  {
   "cell_type": "code",
   "execution_count": null,
   "metadata": {
    "_uuid": "0a8c17f6b532e686c26d0491e95918f03f5475e5"
   },
   "outputs": [],
   "source": [
    "data[\"CabinBool\"] = (data[\"Cabin\"].notnull().astype('int'))"
   ]
  },
  {
   "cell_type": "code",
   "execution_count": null,
   "metadata": {
    "_uuid": "0cd25918a0534d4d8ae0e6f2f4e8609d331f335e"
   },
   "outputs": [],
   "source": [
    "sns.barplot(x=\"CabinBool\", y=\"Survived\", data=data)"
   ]
  },
  {
   "cell_type": "markdown",
   "metadata": {
    "_uuid": "c8db264c34955033169d59f85bfd2215f933faa8"
   },
   "source": [
    "##### Deck"
   ]
  },
  {
   "cell_type": "code",
   "execution_count": null,
   "metadata": {
    "_uuid": "82182f42593f628045a9212b97ab0fef138740cf"
   },
   "outputs": [],
   "source": [
    "data['Deck'] = data.Cabin.str.extract('([a-zA-Z]+)', expand=False)\n",
    "data[['Cabin', 'Deck']].sample(10)\n",
    "data['Deck'] = data['Deck'].fillna('Z')\n",
    "data = data.drop(['Cabin'], axis=1)"
   ]
  },
  {
   "cell_type": "markdown",
   "metadata": {
    "_uuid": "44806f81ed6d104ef74ddb5432f4a874a35611d8"
   },
   "source": [
    "#### Embarked"
   ]
  },
  {
   "cell_type": "code",
   "execution_count": null,
   "metadata": {
    "_uuid": "994f72810d0799e517281b35a1b5121d578c2883"
   },
   "outputs": [],
   "source": [
    "data.groupby(['Embarked'])['Survived'].count()"
   ]
  },
  {
   "cell_type": "markdown",
   "metadata": {
    "_uuid": "e49821c1900a69d1a1a597c991a0b474b90dd780"
   },
   "source": [
    "#### Family"
   ]
  },
  {
   "cell_type": "markdown",
   "metadata": {
    "_uuid": "12e62f7fdbf741337d4a39866ce9aa04d003e5cc"
   },
   "source": [
    "##### Family Size"
   ]
  },
  {
   "cell_type": "code",
   "execution_count": null,
   "metadata": {
    "_uuid": "1aaa59376c82e21598f26e6200de0d353d3c4dbd"
   },
   "outputs": [],
   "source": [
    "data['FamilySize'] = data['SibSp'] + data['Parch']"
   ]
  },
  {
   "cell_type": "markdown",
   "metadata": {
    "_uuid": "209375965c643c70735aadd3b8056c17f61e077b"
   },
   "source": [
    "##### Is Alone"
   ]
  },
  {
   "cell_type": "code",
   "execution_count": null,
   "metadata": {
    "_uuid": "44eb3bfef81b0e24c13fea88440a64033919f3a2"
   },
   "outputs": [],
   "source": [
    "data['IsAlone'] = 1 #default value"
   ]
  },
  {
   "cell_type": "code",
   "execution_count": null,
   "metadata": {
    "_uuid": "ff475ab0efb83f6c0de5fba9dede623f5f1a6682"
   },
   "outputs": [],
   "source": [
    "data['IsAlone'].loc[data['FamilySize'] > 0] = 0"
   ]
  },
  {
   "cell_type": "code",
   "execution_count": null,
   "metadata": {
    "_uuid": "f40b1caaff7eef9e080fd1ba2ebce417a743a963"
   },
   "outputs": [],
   "source": [
    "sns.factorplot(x=\"IsAlone\", y=\"Survived\", data=data, kind=\"bar\")"
   ]
  },
  {
   "cell_type": "markdown",
   "metadata": {
    "_uuid": "d79991eff913f35d23c9e2336a58329ae9a203e5"
   },
   "source": [
    "#### Age"
   ]
  },
  {
   "cell_type": "code",
   "execution_count": null,
   "metadata": {
    "_uuid": "2b3446b129c373794c38454a794e202d7270f957"
   },
   "outputs": [],
   "source": [
    "a = sns.FacetGrid(train, hue = 'Survived', aspect=4 )\n",
    "a.map(sns.kdeplot, 'Age', shade= True )\n",
    "a.set(xlim=(0, train['Age'].max()))\n",
    "a.add_legend()"
   ]
  },
  {
   "cell_type": "code",
   "execution_count": null,
   "metadata": {
    "_uuid": "20d5ab38b8b409041a1c3d42e21ca453a76412f2"
   },
   "outputs": [],
   "source": [
    "# Bucketize\n",
    "bins = [-1, 13, 31, 60, 80]\n",
    "labels = ['Child', 'Young Adult', 'Adult', 'Senior']\n",
    "data['AgeBin'] = pd.cut(data[\"Age\"], bins, labels = labels).astype('object')"
   ]
  },
  {
   "cell_type": "code",
   "execution_count": null,
   "metadata": {},
   "outputs": [],
   "source": [
    "#data['AgeBand'] = pd.cut(data['Age'], 5)\n",
    "#data[['AgeBand', 'Survived']].groupby(['AgeBand'], as_index=False).mean().sort_values(by='AgeBand', ascending=True)"
   ]
  },
  {
   "cell_type": "code",
   "execution_count": null,
   "metadata": {
    "_uuid": "af5db43f90ede43f8e293afd362f7f5dd5791252"
   },
   "outputs": [],
   "source": [
    "# Plot\n",
    "sns.factorplot(x=\"AgeBin\", y=\"Survived\", data=data, kind=\"bar\")"
   ]
  },
  {
   "cell_type": "markdown",
   "metadata": {
    "_uuid": "ceaabebcb8ab77a732c3a2ecab204837f3813bb3"
   },
   "source": [
    "##### Is Baby"
   ]
  },
  {
   "cell_type": "code",
   "execution_count": null,
   "metadata": {
    "_uuid": "afb60a6c3ab4370550fcc8f71236f9781586b2cc"
   },
   "outputs": [],
   "source": [
    "data['IsBaby'] = 0 #default value"
   ]
  },
  {
   "cell_type": "code",
   "execution_count": null,
   "metadata": {
    "_uuid": "388707ee05ed6ed985745072a23dd483ff1e94fd"
   },
   "outputs": [],
   "source": [
    "data['IsBaby'].loc[data['Age'] <= 5] = 1"
   ]
  },
  {
   "cell_type": "code",
   "execution_count": null,
   "metadata": {
    "_uuid": "363673194194a8a58bfd1b4bf0862fd4eb96242f"
   },
   "outputs": [],
   "source": [
    "sns.factorplot(x=\"IsBaby\", y=\"Survived\", data=data, kind=\"bar\")"
   ]
  },
  {
   "cell_type": "markdown",
   "metadata": {
    "_uuid": "7fd7ed72a9d6c3b2075ac6046813d4aa93e02557"
   },
   "source": [
    "##### Title"
   ]
  },
  {
   "cell_type": "code",
   "execution_count": null,
   "metadata": {
    "_uuid": "b02738deedc6c3954009d5a30aeaccd5905bcb77"
   },
   "outputs": [],
   "source": [
    "data['Title'] = data.Name.str.extract(' ([A-Za-z]+)\\.', expand=False)"
   ]
  },
  {
   "cell_type": "code",
   "execution_count": null,
   "metadata": {
    "_uuid": "ba02bd0e7c612f3b241693b3b93cd8e1197e7405"
   },
   "outputs": [],
   "source": [
    "data['Title'] = data['Title'].replace(['Lady', 'Capt', 'Col', 'Don', 'Dr', 'Major', 'Rev', 'Jonkheer', 'Dona'], 'Rare')  \n",
    "data['Title'] = data['Title'].replace(['Countess', 'Lady', 'Sir'], 'Royal')\n",
    "data['Title'] = data['Title'].replace('Mlle', 'Miss')\n",
    "data['Title'] = data['Title'].replace('Ms', 'Miss')\n",
    "data['Title'] = data['Title'].replace('Mme', 'Mrs')"
   ]
  },
  {
   "cell_type": "code",
   "execution_count": null,
   "metadata": {},
   "outputs": [],
   "source": [
    "data['Title'] = data['Title'].astype('object')"
   ]
  },
  {
   "cell_type": "code",
   "execution_count": null,
   "metadata": {},
   "outputs": [],
   "source": [
    "data[['Title', 'Survived']].groupby(['Title'], as_index=False).mean()"
   ]
  },
  {
   "cell_type": "markdown",
   "metadata": {
    "_uuid": "ffce6646b67e65cd0882bce0bf710c1308d9269d"
   },
   "source": [
    "#### Fare "
   ]
  },
  {
   "cell_type": "code",
   "execution_count": null,
   "metadata": {
    "_uuid": "689c948601a67c1c5d7dbcc65957f75584cc0119"
   },
   "outputs": [],
   "source": [
    "f = sns.FacetGrid(train, hue = 'Survived', aspect=4 )\n",
    "f.map(sns.kdeplot, 'Fare', shade= True )\n",
    "f.set(xlim=(0, train['Fare'].max()))\n",
    "f.add_legend()"
   ]
  },
  {
   "cell_type": "code",
   "execution_count": null,
   "metadata": {
    "_uuid": "0b0cd25d7331053c8d0fd7f4303e536e68001b39"
   },
   "outputs": [],
   "source": [
    "# Bucketize\n",
    "bins = [-np.inf, 20, 30, 110, np.inf]\n",
    "labels = ['Low', 'Mid', 'High', 'Extreme']\n",
    "data['FareBin'] = pd.cut(data[\"Fare\"], bins, labels = labels).astype('object')"
   ]
  },
  {
   "cell_type": "code",
   "execution_count": null,
   "metadata": {},
   "outputs": [],
   "source": [
    "#data['FareBand'] = pd.qcut(data['Fare'], 4)\n",
    "#data[['FareBand', 'Survived']].groupby(['FareBand'], as_index=False).mean().sort_values(by='FareBand', ascending=True)"
   ]
  },
  {
   "cell_type": "code",
   "execution_count": null,
   "metadata": {},
   "outputs": [],
   "source": [
    "data.columns"
   ]
  },
  {
   "cell_type": "markdown",
   "metadata": {},
   "source": [
    "## Baseline model"
   ]
  },
  {
   "cell_type": "code",
   "execution_count": null,
   "metadata": {},
   "outputs": [],
   "source": [
    "# To tincker around a bit\n",
    "df = data"
   ]
  },
  {
   "cell_type": "code",
   "execution_count": null,
   "metadata": {},
   "outputs": [],
   "source": [
    "# Drop high cardinality\n",
    "df = df.drop(['Ticket', 'Name', 'Fare'], axis=1)"
   ]
  },
  {
   "cell_type": "code",
   "execution_count": null,
   "metadata": {},
   "outputs": [],
   "source": [
    "from catboost import Pool, CatBoostClassifier, cv\n",
    "\n",
    "#Split data\n",
    "train = df[:split]\n",
    "test = df[split:]\n",
    "\n",
    "# Get variables for a model\n",
    "x = train.drop([\"Survived\"], axis=1)\n",
    "y = train[\"Survived\"]\n",
    "\n",
    "#Do train data splitting\n",
    "X_train, X_test, y_train, y_test = train_test_split(x,y, test_size=0.2, random_state=42)\n",
    "\n",
    "#We will predict this value for a submission\n",
    "test.drop([\"Survived\"], axis = 1, inplace=True)\n",
    "\n",
    "cat_features = np.where(x.dtypes != float)[0]\n",
    "\n",
    "cat = CatBoostClassifier(one_hot_max_size=7, iterations=21, random_seed=42, use_best_model=True, eval_metric='Accuracy', loss_function='Logloss')\n",
    "\n",
    "cat.fit(X_train, y_train, cat_features = cat_features, eval_set=(X_test, y_test))\n",
    "pred = cat.predict(X_test)\n",
    "\n",
    "pool = Pool(X_train, y_train, cat_features=cat_features)\n",
    "cv_scores = cv(pool, cat.get_params(), fold_count=10, plot=True)\n",
    "print('CV score: {:.5f}'.format(cv_scores['test-Accuracy-mean'].values[-1]))\n",
    "print('The test accuracy is :{:.6f}'.format(accuracy_score(y_test, cat.predict(X_test))))"
   ]
  },
  {
   "cell_type": "markdown",
   "metadata": {
    "_uuid": "adbaa9db7a89ba10f32809b821d5bc45dc65abf5"
   },
   "source": [
    "## Correlation"
   ]
  },
  {
   "cell_type": "code",
   "execution_count": null,
   "metadata": {
    "_uuid": "76bf73389ac4ab71a062089bd1f17b2561e6d67d"
   },
   "outputs": [],
   "source": [
    "def correlation_heatmap(df, method):\n",
    "    _ , ax = plt.subplots(figsize =(14, 12))\n",
    "    colormap = sns.diverging_palette(220, 10, as_cmap = True)\n",
    "    \n",
    "    _ = sns.heatmap(\n",
    "        df.corr(method=method),\n",
    "        cmap = colormap,\n",
    "        square=True, \n",
    "        annot=True, \n",
    "        annot_kws={'fontsize':9 }\n",
    "    )\n",
    "    \n",
    "    plt.title('Correlation Matrix', y=1.05, size=15)"
   ]
  },
  {
   "cell_type": "code",
   "execution_count": null,
   "metadata": {
    "_uuid": "46d309ad6ac721becee021ee3fa935e466dcbfd1"
   },
   "outputs": [],
   "source": [
    "correlation_heatmap(data, 'pearson')"
   ]
  },
  {
   "cell_type": "code",
   "execution_count": null,
   "metadata": {},
   "outputs": [],
   "source": [
    "# Drop low corrlations \n",
    "to_drop = ['Age', 'AgeBin', 'SibSp', 'Parch', 'FamilySize', 'Embarked', 'Title']\n",
    "df = df.drop(to_drop, axis=1, inplace=False)"
   ]
  },
  {
   "cell_type": "code",
   "execution_count": null,
   "metadata": {
    "_uuid": "6d77f96a7375c30315cac56304dffced85acbcbf"
   },
   "outputs": [],
   "source": [
    "#Check\n",
    "df.info()"
   ]
  },
  {
   "cell_type": "code",
   "execution_count": null,
   "metadata": {
    "_uuid": "ab8609c6e29967dd8cab1ee67722c60bb490a258"
   },
   "outputs": [],
   "source": [
    "#Check\n",
    "data.columns"
   ]
  },
  {
   "cell_type": "markdown",
   "metadata": {},
   "source": [
    "# Feature encoding"
   ]
  },
  {
   "cell_type": "code",
   "execution_count": null,
   "metadata": {},
   "outputs": [],
   "source": [
    "# Categorical boolean mask\n",
    "categorical_feature_mask = df.dtypes==object\n",
    "# filter categorical columns using mask and turn it into a list\n",
    "categorical_cols = df.columns[categorical_feature_mask].tolist()\n",
    "\n",
    "# import labelencoder\n",
    "from sklearn.preprocessing import LabelEncoder\n",
    "# instantiate labelencoder object\n",
    "le = LabelEncoder()\n",
    "\n",
    "# apply le on categorical feature columns\n",
    "df[categorical_cols] = df[categorical_cols].apply(lambda col: le.fit_transform(col))\n",
    "df[categorical_cols].head()"
   ]
  },
  {
   "cell_type": "code",
   "execution_count": null,
   "metadata": {},
   "outputs": [],
   "source": [
    "data.info()"
   ]
  },
  {
   "cell_type": "markdown",
   "metadata": {
    "_uuid": "f4d021ffbe08a128e8080ee14edde86c53c5a6ec"
   },
   "source": [
    "## Model "
   ]
  },
  {
   "cell_type": "code",
   "execution_count": null,
   "metadata": {
    "_uuid": "010679930708d0c92318af6c6989d10d3f9e5d67"
   },
   "outputs": [],
   "source": [
    "#Split data\n",
    "train = df[:split]\n",
    "test = df[split:]\n",
    "\n",
    "# Get variables for a model\n",
    "x = train.drop([\"Survived\"], axis=1)\n",
    "y = train[\"Survived\"]\n",
    "\n",
    "#Do train data splitting\n",
    "X_train, X_test, y_train, y_test = train_test_split(x,y, test_size=0.2, random_state=42)\n",
    "\n",
    "#We will predict this value for a submission\n",
    "test.drop([\"Survived\"], axis = 1, inplace=True)"
   ]
  },
  {
   "cell_type": "markdown",
   "metadata": {
    "_uuid": "9a011c813b02e35fa81bd037a441f0a57dc98151"
   },
   "source": [
    "### Train&Score "
   ]
  },
  {
   "cell_type": "code",
   "execution_count": null,
   "metadata": {
    "_uuid": "ccd59e075e5bf08b95ae44807fcb137697e90943"
   },
   "outputs": [],
   "source": [
    "MLA = [\n",
    "    ensemble.AdaBoostClassifier(),\n",
    "    ensemble.ExtraTreesClassifier(),\n",
    "    ensemble.GradientBoostingClassifier(),\n",
    "    ensemble.RandomForestClassifier(),\n",
    "    gaussian_process.GaussianProcessClassifier(),\n",
    "    linear_model.LogisticRegressionCV(),\n",
    "    linear_model.RidgeClassifierCV(),\n",
    "    linear_model.Perceptron(),\n",
    "    naive_bayes.BernoulliNB(),\n",
    "    naive_bayes.GaussianNB(),\n",
    "    neighbors.KNeighborsClassifier(),\n",
    "    svm.SVC(probability=True),\n",
    "    svm.NuSVC(probability=True),\n",
    "    svm.LinearSVC(),\n",
    "    tree.DecisionTreeClassifier(),\n",
    "    tree.ExtraTreeClassifier(),\n",
    "    xgb.XGBClassifier()\n",
    "    ]"
   ]
  },
  {
   "cell_type": "code",
   "execution_count": null,
   "metadata": {
    "_uuid": "d87dfefb46abcf623a9e8beaed805cf15cb6c45b"
   },
   "outputs": [],
   "source": [
    "#Do some preperation for the loop\n",
    "col = []\n",
    "algorithms = pd.DataFrame(columns = col)\n",
    "idx = 0\n",
    "\n",
    "#Train and score algorithms\n",
    "for a in MLA:\n",
    "    \n",
    "    a.fit(X_train, y_train)\n",
    "    pred = a.predict(X_test)\n",
    "    acc = accuracy_score(y_test, pred) #Other way: a.score(X_test, y_test)\n",
    "    f1 = f1_score(y_test, pred)\n",
    "    cv = cross_val_score(a, X_test, y_test).mean()\n",
    "    \n",
    "    Alg = a.__class__.__name__\n",
    "    \n",
    "    algorithms.loc[idx, 'Algorithm'] = Alg\n",
    "    algorithms.loc[idx, 'Accuracy'] = round(acc * 100, 2)\n",
    "    algorithms.loc[idx, 'F1 Score'] = round(f1 * 100, 2)\n",
    "    algorithms.loc[idx, 'CV Score'] = round(cv * 100, 2)\n",
    "\n",
    "    idx+=1"
   ]
  },
  {
   "cell_type": "code",
   "execution_count": null,
   "metadata": {
    "_uuid": "4eb711f3d67da726436af3cf5ae4d56aacf87c76"
   },
   "outputs": [],
   "source": [
    "#Compare invidual models\n",
    "algorithms.sort_values(by = ['CV Score'], ascending = False, inplace = True)    \n",
    "algorithms.head()"
   ]
  },
  {
   "cell_type": "code",
   "execution_count": null,
   "metadata": {
    "_uuid": "335e21ad82bfdeda5fbdcabaa47a292331a8769f"
   },
   "outputs": [],
   "source": [
    "#Plot them\n",
    "g = sns.barplot(\"CV Score\", \"Algorithm\", data = algorithms)\n",
    "g.set_xlabel(\"CV score\")\n",
    "g = g.set_title(\"Algorithm Scores\")"
   ]
  },
  {
   "cell_type": "markdown",
   "metadata": {
    "_uuid": "7fbcf5b393284651ee558166eed65ea368cbd0e0"
   },
   "source": [
    "### Evaluation"
   ]
  },
  {
   "cell_type": "markdown",
   "metadata": {
    "_uuid": "32d398b34c21527b5f0049a062078bf4011a10f7"
   },
   "source": [
    "### Parameter Tunning"
   ]
  },
  {
   "cell_type": "code",
   "execution_count": null,
   "metadata": {
    "_uuid": "393c7a2e586187448b4aff76e245caaceff79445"
   },
   "outputs": [],
   "source": [
    "kfold = StratifiedKFold(n_splits=10) #-> library from sklearn.model_selection import StratifiedKFold"
   ]
  },
  {
   "cell_type": "code",
   "execution_count": null,
   "metadata": {
    "_uuid": "1fce34b13bb48c6c91b367b7813f7aa62e8169d9"
   },
   "outputs": [],
   "source": [
    "# XGBoost Classifier\n",
    "XGB = XGBClassifier()\n",
    "xgb_param = {\n",
    "    'loss' : [\"deviance\"],\n",
    "     'n_estimators' : [100,200,300],\n",
    "     'learning_rate': [0.1, 0.05, 0.01],\n",
    "     'max_depth': [4, 8],\n",
    "     'min_samples_leaf': [100,150],\n",
    "     'max_features': [0.3, 0.1] \n",
    "    }\n",
    "\n",
    "gsXGB = GridSearchCV(XGB, param_grid = xgb_param, cv=kfold, scoring=\"accuracy\", n_jobs= 4, verbose = 1)\n",
    "gsXGB.fit(X_train,y_train)\n",
    "XGB_best = gsXGB.best_estimator_\n",
    "\n",
    "# Best score\n",
    "gsXGB.best_score_"
   ]
  },
  {
   "cell_type": "code",
   "execution_count": null,
   "metadata": {
    "_uuid": "f93240d373aed86d3329ab68342414e93e827948"
   },
   "outputs": [],
   "source": [
    "# SVC Classifier\n",
    "SVC = svm.SVC(probability=True)\n",
    "svc_param = {\n",
    "    'kernel': ['rbf'], \n",
    "    'gamma': [ 0.001, 0.01, 0.1, 1],\n",
    "    'C': [1, 10, 50, 100,200,300, 1000]\n",
    "    }\n",
    "\n",
    "gsSVC = GridSearchCV(SVC, param_grid = svc_param, cv=kfold, scoring=\"accuracy\", n_jobs= 4, verbose = 1)\n",
    "gsSVC.fit(X_train,y_train)\n",
    "SVC_best = gsSVC.best_estimator_\n",
    "\n",
    "# Best score\n",
    "gsSVC.best_score_"
   ]
  },
  {
   "cell_type": "code",
   "execution_count": null,
   "metadata": {
    "_uuid": "d3d76c3244842c21b4eb65df0165edfbf9cd11ab"
   },
   "outputs": [],
   "source": [
    "# Gradient Boosting Classifier\n",
    "GB = ensemble.GradientBoostingClassifier()\n",
    "gb_param = {\n",
    "        'loss' : [\"deviance\"],\n",
    "        'n_estimators' : [100,200,300],\n",
    "        'learning_rate': [0.1, 0.05, 0.01],\n",
    "        'max_depth': [4, 8],\n",
    "        'min_samples_leaf': [100,150],\n",
    "        'max_features': [0.3, 0.1] \n",
    "        }\n",
    "\n",
    "gsGB = GridSearchCV(GB, param_grid = gb_param, cv=kfold, scoring=\"accuracy\", n_jobs= 4, verbose = 1)\n",
    "gsGB.fit(X_train,y_train)\n",
    "GB_best = gsGB.best_estimator_\n",
    "\n",
    "# Best score\n",
    "gsGB.best_score_"
   ]
  },
  {
   "cell_type": "markdown",
   "metadata": {
    "_uuid": "c37d0dd2aec2b024a5e5ab666f575908449a34e7"
   },
   "source": [
    "### Model Assembly "
   ]
  },
  {
   "cell_type": "code",
   "execution_count": null,
   "metadata": {
    "_uuid": "6a19d6dfe56702f52f1fa24b74713fbbd4b45a7d"
   },
   "outputs": [],
   "source": [
    "vc = ensemble.VotingClassifier(\n",
    "    estimators = [('xgb', XGB_best), ('gbc',GB_best), ('svc', SVC_best)],\n",
    "    voting='soft', n_jobs=4)"
   ]
  },
  {
   "cell_type": "code",
   "execution_count": null,
   "metadata": {
    "_uuid": "8074d4acdd688a5d0783083549b827f52911df2e"
   },
   "outputs": [],
   "source": [
    "vc = vc.fit(X_train, y_train)\n",
    "pred = vc.predict(X_test)\n",
    "acc = accuracy_score(y_test, pred) #Other way: vc.score(X_test, y_test)\n",
    "f1 = f1_score(y_test, pred)\n",
    "cv = cross_val_score(vc, X_test, y_test).mean()\n",
    "\n",
    "print(\"Accuracy: \", round(acc*100,2), \"\\nF1-Score: \", round(f1*100,2), \"\\nCV Score: \", round(cv*100,2))"
   ]
  },
  {
   "cell_type": "code",
   "execution_count": null,
   "metadata": {},
   "outputs": [],
   "source": [
    "ada = ensemble.AdaBoostClassifier()\n",
    "ada.fit(X_train, y_train)\n",
    "\n",
    "lg = linear_model.LogisticRegressionCV()\n",
    "lg.fit(X_train, y_train)\n",
    "\n",
    "vc2 = ensemble.VotingClassifier(\n",
    "    estimators = [('ada', ada), ('lg',lg), ('VotingClassifier', vc)],\n",
    "    voting='soft', n_jobs=4)\n",
    "vc2.fit(X_train, y_train)"
   ]
  },
  {
   "cell_type": "markdown",
   "metadata": {
    "_uuid": "ba3f99ef987f7055f8caddfd854023ab12a67620"
   },
   "source": [
    "### AUROC "
   ]
  },
  {
   "cell_type": "markdown",
   "metadata": {
    "_uuid": "0ddeeedf5f23e3d3986b365d647d5aa59e9795da"
   },
   "source": [
    "#### Curve "
   ]
  },
  {
   "cell_type": "code",
   "execution_count": null,
   "metadata": {},
   "outputs": [],
   "source": [
    "y_scores = vc2.predict_proba(X_test)\n",
    "y_scores = y_scores[:,1]"
   ]
  },
  {
   "cell_type": "code",
   "execution_count": null,
   "metadata": {
    "_uuid": "026283c706a05be95df62c7f56f25c7b26643918"
   },
   "outputs": [],
   "source": [
    "false_positive_rate, true_positive_rate, thresholds = roc_curve(y_test, y_scores)"
   ]
  },
  {
   "cell_type": "code",
   "execution_count": null,
   "metadata": {
    "_uuid": "57ca38d0b9a8603fb2415e79f8688676d7da6b09"
   },
   "outputs": [],
   "source": [
    "def plot_roc_curve(false_positive_rate, true_positive_rate, label=None):\n",
    "    plt.plot(false_positive_rate, true_positive_rate, linewidth=2, label=label)\n",
    "    plt.plot([0, 1], [0, 1], 'r', linewidth=4)\n",
    "    plt.axis([0, 1, 0, 1])\n",
    "    plt.xlabel('False Positive Rate (FPR)', fontsize=16)\n",
    "    plt.ylabel('True Positive Rate (TPR)', fontsize=16)"
   ]
  },
  {
   "cell_type": "code",
   "execution_count": null,
   "metadata": {
    "_uuid": "96f0a327c83f2f903feda309e4f992ea0e3a191c"
   },
   "outputs": [],
   "source": [
    "plt.figure(figsize=(14, 7))\n",
    "plot_roc_curve(false_positive_rate, true_positive_rate)"
   ]
  },
  {
   "cell_type": "markdown",
   "metadata": {
    "_uuid": "577bc03d3577ab290a3d41d4d5874cda23f98cc7"
   },
   "source": [
    "#### Score "
   ]
  },
  {
   "cell_type": "code",
   "execution_count": null,
   "metadata": {
    "_uuid": "a9724146fff68de260724ad1782b1fd5ee5bf5d1"
   },
   "outputs": [],
   "source": [
    "auroc = roc_auc_score(y_test, y_scores)\n",
    "print(\"ROC-AUC Score:\", auroc)"
   ]
  }
 ],
 "metadata": {
  "kernelspec": {
   "display_name": "Python 3",
   "language": "python",
   "name": "python3"
  },
  "language_info": {
   "codemirror_mode": {
    "name": "ipython",
    "version": 3
   },
   "file_extension": ".py",
   "mimetype": "text/x-python",
   "name": "python",
   "nbconvert_exporter": "python",
   "pygments_lexer": "ipython3",
   "version": "3.7.1"
  }
 },
 "nbformat": 4,
 "nbformat_minor": 1
}
